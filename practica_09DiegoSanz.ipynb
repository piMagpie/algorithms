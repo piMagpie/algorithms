{
 "cells": [
  {
   "cell_type": "markdown",
   "metadata": {},
   "source": [
    "# Autor: DIEGO SANZ VILLAFRUELA"
   ]
  },
  {
   "cell_type": "markdown",
   "metadata": {},
   "source": [
    "## Algoritmia\n",
    "### Práctica 9\n",
    "En esta práctica se implementará algún método de *programación dinámica*."
   ]
  },
  {
   "cell_type": "markdown",
   "metadata": {},
   "source": [
    "Se pide la implementación de las clases y/o funciones que aparecen a continuación.\n",
    "\n",
    "Las instrucción \"pass\" que aparecen en el cuerpo de las clases o funciones, se debe sustituir por la implementación adecuada.\n",
    "\n",
    "Para cada clase o función que se pide se proporciona una o más funciones con algunos tests.\n",
    "\n",
    "Al llamar a las funciones de test no debería saltar ninguna aserción."
   ]
  },
  {
   "cell_type": "markdown",
   "metadata": {},
   "source": [
    "### Subsecuencia común más larga"
   ]
  },
  {
   "cell_type": "code",
   "execution_count": 1,
   "metadata": {
    "collapsed": false
   },
   "outputs": [],
   "source": [
    "\"\"\"\n",
    "    Dadas dos cadenas x e y devuelve una que es subsecuencia de ambas y que \n",
    "    tiene la longitud máxima de todas las subsecuencias comunes.\n",
    "\"\"\"     \n",
    "def subsecuencia_comun_mas_larga(X, Y):\n",
    "    tamX = len(X)\n",
    "    tamY = len(Y)\n",
    "    # creamos una matriz vacia\n",
    "    matrix = []\n",
    "    for i in range(0,tamX):\n",
    "        aux = []\n",
    "        for j in range(0,tamY):\n",
    "            aux.append(0)\n",
    "        matrix.append(aux)\n",
    "    \n",
    "    # rellenamos la matriz\n",
    "    subproblema(X,Y,tamX-1,tamY-1, matrix)\n",
    "    # una vez rellenada, la recorremos para obtener la subsecuencia\n",
    "    return backtrack(X,Y,tamX-1,tamY-1, matrix)\n",
    "\n",
    "'''\n",
    "    Obtener la subsecuencia común más larga\n",
    "'''\n",
    "def backtrack( X, Y, i, j, matriz):\n",
    "    if i < 0 or j < 0:\n",
    "        return \"\"\n",
    "    elif  X[i] == Y[j]:\n",
    "        return backtrack(X, Y, i - 1, j - 1, matriz) + X[i]\n",
    "    else:\n",
    "        if matriz[i][j-1] > matriz[i-1][j]:\n",
    "            return backtrack(X, Y, i, j - 1, matriz)\n",
    "        else:\n",
    "            return backtrack(X, Y, i - 1, j, matriz) \n",
    "\n",
    "'''\n",
    "    Rellenamos la matriz\n",
    "'''\n",
    "def subproblema(X,Y,i,j, matriz):\n",
    "    if i < 0 or j < 0:\n",
    "        return 0\n",
    "    if matriz[i][j] != 0:\n",
    "        return matriz[i][j]\n",
    "    if X[i] == Y[j]:\n",
    "        matriz[i][j] = subproblema(X,Y, i-1,j-1, matriz) + 1\n",
    "    else:\n",
    "        matriz[i][j] =  max ( subproblema(X,Y,i - 1, j,matriz), subproblema(X,Y, i , j - 1,matriz) )\n",
    "    return matriz[i][j]\n",
    "\n"
   ]
  },
  {
   "cell_type": "code",
   "execution_count": 2,
   "metadata": {
    "collapsed": false
   },
   "outputs": [
    {
     "name": "stdout",
     "output_type": "stream",
     "text": [
      "OK\n"
     ]
    }
   ],
   "source": [
    "def test_subsecuencia_comun_mas_larga():\n",
    "    \"\"\"Casos de prueba para subsecuencia_comun_mas_larga.\"\"\"\n",
    "    \n",
    "    for s1, s2, l in (\n",
    "        (\"GTTCCTAATA\", \"CGATAATTGAGA\", 6),\n",
    "        (\"ACDAADDADDDDCCBCBCAD\", \"ADBDBBCDBDAABBDDDCBB\", 11),\n",
    "        (\"BBDABCCADCCADADDCACAACBA\", \"DBCBBDCBADABBBCCCDCACAADDACADD\", 17)\n",
    "    ):    \n",
    "        for x, y in ((s1, s2), (s2, s1)):\n",
    "            sub = subsecuencia_comun_mas_larga(x, y)\n",
    "            assert len(sub) == l\n",
    "            for s in x, y:\n",
    "                # comprobamos que sub es subsecuencia de s:\n",
    "                it = iter(s)\n",
    "                assert all(c in it for c in sub)\n",
    "    \n",
    "if __name__ == \"__main__\": \n",
    "    test_subsecuencia_comun_mas_larga()\n",
    "    print(\"OK\")    "
   ]
  },
  {
   "cell_type": "markdown",
   "metadata": {},
   "source": [
    "### Multiplicación encadenada de matrices\n",
    "Dadas varias matrices, caracterizadas por sus dimensiones, se determinará qué multiplicaciones realizar."
   ]
  },
  {
   "cell_type": "code",
   "execution_count": 25,
   "metadata": {
    "collapsed": false
   },
   "outputs": [],
   "source": [
    "\"\"\"\n",
    "    Dadas las dimensiones de varias matrices a multiplicar, aplica el método\n",
    "    de programación dinámica para para determinar en qué orden realizar las\n",
    "    multiplicaciones.\n",
    "    El número de matrices será la longitud de dimensiones menos uno.\n",
    "    Las dimensiones de la matriz M_i están en las componentes i-1 e i de\n",
    "    'dimensiones'.\n",
    "    Devuelve el número de multiplicaciones de elementos a realizar y una\n",
    "    cadena con la fórmula, incluyendo paréntesis (solo si son necesarios), en\n",
    "    la que se realizarían las multiplicaciones.\n",
    "    Por ejemplo '(M_1*(M_2*M_3))*M_4'.\n",
    "\"\"\"\n",
    "def multiplicacion_encadenada_matrices(dimensiones):\n",
    "\n",
    "    tam = len(dimensiones) - 1\n",
    "    matriz = [];minimos = [] # se utiliza minimos\n",
    "    \n",
    "    # se rellena la matriz\n",
    "    for i in range(tam):\n",
    "        matriz.append([])\n",
    "        minimos.append([])\n",
    "        for j in range(tam):\n",
    "            matriz[i].append(None)\n",
    "            minimos[i].append(None)\n",
    "            if i == j:\n",
    "                matriz[i][i] = 0\n",
    "                \n",
    "\n",
    "    #Algoritmo de los apuntes\n",
    "    for d in range(1, tam):\n",
    "        for i in range(1, tam - d + 1):\n",
    "            j = i + d\n",
    "            m = None; multiplicaciones = None\n",
    "            for k in range(i, j):\n",
    "                m_aux = matriz[i - 1][k - 1] + matriz[k][j - 1] + \\\n",
    "                    dimensiones[i - 1] * dimensiones[k] * dimensiones[j]\n",
    "                if multiplicaciones == None or m_aux < multiplicaciones:\n",
    "                    multiplicaciones = m_aux\n",
    "                    m = k\n",
    "            matriz[i - 1][j - 1] = multiplicaciones\n",
    "            minimos[i - 1][j - 1] = m\n",
    "            \n",
    "    # Calcular la formula\n",
    "    texto = calcular_formula(minimos, 1, tam)\n",
    "\n",
    "    # Devolver los resultados\n",
    "    return (matriz[0][tam - 1], texto)\n",
    "\n",
    "\n",
    "def calcular_formula(km, i, j):\n",
    "    \n",
    "    if j == i:\n",
    "        return \"M_\" + str(i)\n",
    "    if j == i + 1:\n",
    "        return \"M_\" + str(i) + \"*\" + \"M_\" + str(j)\n",
    "    k = km[i - 1][j - 1]\n",
    "    if k == i:\n",
    "        return \"M_\" + str(i) + \"*\" + \"(\" + calcular_formula(km, k + 1, j) + \")\"\n",
    "    if k == j - 1:\n",
    "        return \"(\" + calcular_formula(km, i, k) + \")\" + \"*\" + \"M_\" + str(j)\n",
    "    return \"(\" + calcular_formula(km, i, k) + \")\" + \"*\" + \"(\" + calcular_formula(km, k + 1, j) + \")\"\n",
    "\n",
    "#print (multiplicacion_encadenada_matrices([13, 5, 89]) )"
   ]
  },
  {
   "cell_type": "code",
   "execution_count": 26,
   "metadata": {
    "collapsed": false
   },
   "outputs": [
    {
     "name": "stdout",
     "output_type": "stream",
     "text": [
      "OK\n"
     ]
    }
   ],
   "source": [
    "def test_orden_multiplicacion_matrices():\n",
    "    \"\"\"Casos de prueba para multiplicacion_encadenada_matrices.\"\"\"\n",
    "    \n",
    "    for dimensiones, multiplicaciones, formula in (\n",
    "        ([13, 5, 89], 13 * 5 * 89, \"M_1*M_2\"),\n",
    "        ([13, 5, 89, 3, 34], 2856, \"(M_1*(M_2*M_3))*M_4\"), \n",
    "        ([2, 3, 5, 2, 4, 3], 78, \"(M_1*(M_2*M_3))*(M_4*M_5)\"),\n",
    "        ([66, 87, 71, 43, 18, 19, 33, 98, 54], 498402, \n",
    "         \"(M_1*(M_2*(M_3*M_4)))*(((M_5*M_6)*M_7)*M_8)\")\n",
    "    ):\n",
    "        assert (multiplicacion_encadenada_matrices(dimensiones) ==\n",
    "                (multiplicaciones, formula))   \n",
    "    \n",
    "if __name__ == \"__main__\": \n",
    "    test_orden_multiplicacion_matrices()\n",
    "    print(\"OK\")    "
   ]
  },
  {
   "cell_type": "code",
   "execution_count": null,
   "metadata": {
    "collapsed": true
   },
   "outputs": [],
   "source": []
  }
 ],
 "metadata": {
  "anaconda-cloud": {},
  "kernelspec": {
   "display_name": "Python 3",
   "language": "python",
   "name": "python3"
  },
  "language_info": {
   "codemirror_mode": {
    "name": "ipython",
    "version": 3
   },
   "file_extension": ".py",
   "mimetype": "text/x-python",
   "name": "python",
   "nbconvert_exporter": "python",
   "pygments_lexer": "ipython3",
   "version": "3.6.0"
  }
 },
 "nbformat": 4,
 "nbformat_minor": 1
}
