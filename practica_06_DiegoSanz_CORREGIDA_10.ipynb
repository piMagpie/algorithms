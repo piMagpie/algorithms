{
 "cells": [
  {
   "cell_type": "markdown",
   "metadata": {
    "deletable": true,
    "editable": true
   },
   "source": [
    "# Autor: DIEGO SANZ VILLAFRUELA\n",
    "# Algoritmia  <font color=\"red\">NOTA:10\n",
    "### Práctica 6\n",
    "El objetivo de esta práctica es trabajar con métodos divide y venceras."
   ]
  },
  {
   "cell_type": "markdown",
   "metadata": {
    "deletable": true,
    "editable": true
   },
   "source": [
    "Se pide la implementación de las clases y/o funciones que aparecen a continuación.\n",
    "\n",
    "Las instrucción \"pass\" que aparecen en el cuerpo de las clases o funciones, se debe sustituir por la implementación adecuada.\n",
    "\n",
    "Para cada clase o función que se pide se proporciona una o más funciones con algunos tests.\n",
    "\n",
    "Al llamar a las funciones de test no debería saltar ninguna aserción."
   ]
  },
  {
   "cell_type": "markdown",
   "metadata": {
    "deletable": true,
    "editable": true
   },
   "source": [
    "### Exponenciación   <font color=\"red\">OK"
   ]
  },
  {
   "cell_type": "code",
   "execution_count": 1,
   "metadata": {
    "collapsed": false,
    "deletable": true,
    "editable": true
   },
   "outputs": [],
   "source": [
    "\"\"\"\n",
    "    Utiliza el método divide y vencerás para indicar cómo elevar a la n, siendo \n",
    "    n un número natural.\n",
    "    Devuelve una lista, donde cada elemento se corresponde con una \n",
    "    multiplicación.\n",
    "    Las multiplicaciones se representan como tuplas de 3 elementos: el\n",
    "    exponente del resultado y los exponentes de los dos elementos multiplicados,\n",
    "    en orden decreciente.\n",
    "    Las multiplicaciones tienen que estar en la lista en el orden en el que\n",
    "    se realizarían.\n",
    "\"\"\"\n",
    "def exponenciacion_divide_y_venceras(n):\n",
    "    lista = []\n",
    "    if n % 2 == 0:\n",
    "        div = n//2\n",
    "        if n // 2 != 1:\n",
    "            lista = exponenciacion_divide_y_venceras( div )\n",
    "        lista.append( ( n, div, div ) )\n",
    "        return lista\n",
    "    else:\n",
    "        lista = exponenciacion_divide_y_venceras( n - 1 )\n",
    "        lista.append( ( n , n - 1 , 1 ) )\n",
    "        return lista            "
   ]
  },
  {
   "cell_type": "code",
   "execution_count": 3,
   "metadata": {
    "collapsed": false,
    "deletable": true,
    "editable": true
   },
   "outputs": [],
   "source": [
    "\"\"\"\n",
    "    Utiliza el método iterativo basado en la representación binaria del \n",
    "    exponente para indicar cómo elevar a la n, siendo n un número natural.\n",
    "    Devuelve una lista, donde cada elemento se corresponde con una\n",
    "    multiplicación.\n",
    "    Las multiplicaciones se representan como tuplas de 3 elementos: el\n",
    "    exponente del resultado y los exponentes de los dos elementos multiplicados,\n",
    "    en orden decreciente.\n",
    "    Las multiplicaciones tienen que estar en la lista en el orden en el que\n",
    "    se realizarían.\n",
    "    def exponenciacion_iterativa(n):\n",
    "\"\"\"\n",
    "def exponenciacion_iterativa(n):\n",
    "    lista = []\n",
    "    indice = n\n",
    "    r = 0\n",
    "    a = 1\n",
    "    while indice > 0:\n",
    "        if indice % 2 == 1:\n",
    "            if r != 0:\n",
    "                lista.append((r+a, a, r));\n",
    "            r = r + a\n",
    "            if indice == 1:\n",
    "                break\n",
    "        lista.append((a+a, a, a));\n",
    "        a += a\n",
    "        indice = indice // 2\n",
    "    \n",
    "    return lista"
   ]
  },
  {
   "cell_type": "code",
   "execution_count": 4,
   "metadata": {
    "collapsed": true,
    "deletable": true,
    "editable": true
   },
   "outputs": [],
   "source": [
    "\"\"\"\n",
    "    Comprueba si una lista de multiplicaciones calcula la pontencia a la n.\n",
    "    Las multiplicaciones se expresan como tuplas de 3 elementos, con los\n",
    "    exponentes del resultado y de los multiplicandos.\n",
    "\"\"\"\n",
    "def comprueba_multiplicaciones(n, multiplicaciones):\n",
    "    calculados = set([1])\n",
    "    for m in multiplicaciones:\n",
    "        if (m[1] not in calculados or m[2] not in calculados\n",
    "            or m[0] != m[1] + m[2]):\n",
    "            return False\n",
    "        calculados.add(m[0])\n",
    "    return m[0] == n"
   ]
  },
  {
   "cell_type": "code",
   "execution_count": 5,
   "metadata": {
    "collapsed": false,
    "deletable": true,
    "editable": true
   },
   "outputs": [
    {
     "name": "stdout",
     "output_type": "stream",
     "text": [
      "a^2 = a^1 * a^1\n",
      "a^3 = a^2 * a^1\n",
      "a^6 = a^3 * a^3\n",
      "a^12 = a^6 * a^6\n",
      "a^24 = a^12 * a^12\n",
      "a^25 = a^24 * a^1\n",
      "a^50 = a^25 * a^25\n",
      "a^100 = a^50 * a^50\n"
     ]
    }
   ],
   "source": [
    "\"\"\"Devuelve una cadena con la representación de las multiplicaciones.\"\"\"\n",
    "def cadena_multiplicaciones(multiplicaciones, base = \"a\"):\n",
    "    \n",
    "    return '\\n'.join(\n",
    "        \"{0}^{1} = {0}^{2} * {0}^{3}\".format(base, *m)\n",
    "        for m in multiplicaciones)\n",
    "\n",
    "if __name__ == \"__main__\": \n",
    "    print(cadena_multiplicaciones([(2, 1, 1), (3, 2, 1), (6, 3, 3), (12, 6, 6), \n",
    "        (24, 12, 12), (25, 24, 1), (50, 25, 25), (100, 50, 50)]))    "
   ]
  },
  {
   "cell_type": "code",
   "execution_count": 6,
   "metadata": {
    "collapsed": false,
    "deletable": true,
    "editable": true
   },
   "outputs": [
    {
     "name": "stdout",
     "output_type": "stream",
     "text": [
      "[(2, 1, 1), (4, 2, 2), (8, 4, 4), (16, 8, 8), (32, 16, 16), (36, 32, 4), (64, 32, 32), (100, 64, 36)]\n",
      "///////\n",
      "a^2 = a^1 * a^1\n",
      "a^4 = a^2 * a^2\n",
      "a^8 = a^4 * a^4\n",
      "a^16 = a^8 * a^8\n",
      "a^32 = a^16 * a^16\n",
      "a^36 = a^32 * a^4\n",
      "a^64 = a^32 * a^32\n",
      "a^100 = a^64 * a^36\n",
      "****************\n",
      "OK\n"
     ]
    }
   ],
   "source": [
    "from math import log\n",
    "\n",
    "def test_exponenciacion():\n",
    "    \"\"\"\n",
    "    Tests para funciones que indican cómo elevar a un número natural\n",
    "    utilizando multiplicaciones.\n",
    "    \"\"\"\n",
    "    \n",
    "    multiplicaciones = exponenciacion_divide_y_venceras(100)\n",
    "    \n",
    "    \n",
    "    assert multiplicaciones == [(2, 1, 1), (3, 2, 1), (6, 3, 3), (12, 6, 6), \n",
    "        (24, 12, 12), (25, 24, 1), (50, 25, 25), (100, 50, 50)]\n",
    "    \n",
    "    assert cadena_multiplicaciones(multiplicaciones) == (\"\"\"a^2 = a^1 * a^1\n",
    "a^3 = a^2 * a^1\n",
    "a^6 = a^3 * a^3\n",
    "a^12 = a^6 * a^6\n",
    "a^24 = a^12 * a^12\n",
    "a^25 = a^24 * a^1\n",
    "a^50 = a^25 * a^25\n",
    "a^100 = a^50 * a^50\"\"\")\n",
    "    \n",
    "    multiplicaciones = exponenciacion_iterativa(100)\n",
    "    print(multiplicaciones)\n",
    "    print (\"///////\")\n",
    "    print (cadena_multiplicaciones(multiplicaciones))\n",
    "    print (\"****************\")\n",
    "    \n",
    "    assert multiplicaciones == [(2, 1, 1), (4, 2, 2), (8, 4, 4), (16, 8, 8), \n",
    "        (32, 16, 16), (36, 32, 4), (64, 32, 32), (100, 64, 36)]\n",
    "    assert cadena_multiplicaciones(multiplicaciones) == (\"\"\"a^2 = a^1 * a^1\n",
    "a^4 = a^2 * a^2\n",
    "a^8 = a^4 * a^4\n",
    "a^16 = a^8 * a^8\n",
    "a^32 = a^16 * a^16\n",
    "a^36 = a^32 * a^4\n",
    "a^64 = a^32 * a^32\n",
    "a^100 = a^64 * a^36\"\"\")\n",
    "    \n",
    "    for metodo_exponenciacion in (exponenciacion_divide_y_venceras, \n",
    "                                  exponenciacion_iterativa):\n",
    "        for n in range(2,10000):\n",
    "            multiplicaciones = metodo_exponenciacion(n)\n",
    "            assert comprueba_multiplicaciones(n, multiplicaciones)\n",
    "            assert len(multiplicaciones) <= 2 * log(n, 2)\n",
    "        \n",
    "if __name__ == \"__main__\": \n",
    "    test_exponenciacion()\n",
    "    print(\"OK\")"
   ]
  },
  {
   "cell_type": "markdown",
   "metadata": {
    "deletable": true,
    "editable": true
   },
   "source": [
    "### Torres de Hanoi  <font color=\"red\">OK"
   ]
  },
  {
   "cell_type": "code",
   "execution_count": 7,
   "metadata": {
    "collapsed": false,
    "deletable": true,
    "editable": true
   },
   "outputs": [],
   "source": [
    "# Para dibujar las torres:\n",
    "\n",
    "%matplotlib inline\n",
    "\n",
    "import matplotlib.pyplot as plt\n"
   ]
  },
  {
   "cell_type": "code",
   "execution_count": 10,
   "metadata": {
    "collapsed": false,
    "deletable": true,
    "editable": true
   },
   "outputs": [],
   "source": [
    "class Hanoi:\n",
    "    \"\"\"Clase para representar las torres de Hanoi.\"\"\"\n",
    "\n",
    "    def __init__(self, discos):\n",
    "        \"\"\"\n",
    "        El parámetro discos es un entero o una secuencia.\n",
    "        Si es un entero se refiere al número de discos en el primer poste.\n",
    "        Si es una secuencia, cada elemento indica en qué poste está el disco.\n",
    "        Los postes se identifican como 1, 2 y 3.\n",
    "        El primer elemento de la secuencia se refiere al disco más pequeño,\n",
    "        el último al más grande.\n",
    "        \"\"\"\n",
    "        \n",
    "        if isinstance(discos, int):\n",
    "            discos = [1] * discos # todos los discos en el poste 1\n",
    "            self._num = True\n",
    "        else:\n",
    "            # comprobamos que los valores de la secuencia sean correctos\n",
    "            assert all(1 <= d <= 3 for d in discos)\n",
    "            self._num = False\n",
    "            self._array = discos\n",
    "            \n",
    "\n",
    "        self._discos = list(discos)\n",
    "\n",
    "        # Almacenamos los postes como una lista de 3 listas\n",
    "        self._postes = [[], [], []]\n",
    "        i = len(discos)\n",
    "        for d in discos[::-1]:\n",
    "            self._postes[d - 1].append(i)\n",
    "            i -= 1\n",
    "\n",
    "    def __len__(self):\n",
    "        \"\"\"Devuelve el número de discos\"\"\"\n",
    "        \n",
    "        return len(self._discos)\n",
    "\n",
    "    def mueve(self, origen, destino):\n",
    "        \"\"\"Mueve el disco superior del poste origen al poste destino.\"\"\"\n",
    "        \n",
    "        assert 1 <= origen <= 3\n",
    "        assert 1 <= destino <= 3\n",
    "\n",
    "        poste_origen = self._postes[origen - 1]\n",
    "        poste_destino = self._postes[destino - 1]\n",
    "        \n",
    "        assert len(poste_origen) > 0 # hay discos en el poste origen\n",
    "        disco = poste_origen[-1]\n",
    "        \n",
    "        # comprobamos si podemos mover el disco:\n",
    "        assert (len(poste_destino) == 0 # el destino está vacío\n",
    "                or disco < poste_destino[-1]) # contiene un disco mayor\n",
    "\n",
    "        # movemos:\n",
    "        self._discos[disco - 1] = destino\n",
    "        poste_origen.pop()\n",
    "        poste_destino.append(disco)\n",
    "\n",
    "    def __str__(self):\n",
    "        return str(self._discos)\n",
    "\n",
    "    def __repr__(self):\n",
    "        return str(self)\n",
    "    \n",
    "    def realiza_movimientos(self, movimientos, imprime = False, dibuja = False):\n",
    "        \"\"\"\n",
    "        Realiza varios movimientos, cada movimiento se indica como un par\n",
    "        (origen, destino).\n",
    "        \"\"\"\n",
    "        \n",
    "        if imprime:\n",
    "            self.imprime()\n",
    "        if dibuja:\n",
    "            self.dibuja()\n",
    "        for origen, destino in movimientos:\n",
    "            self.mueve(origen, destino)\n",
    "            if imprime:\n",
    "                print(\"\\n\", origen, \"->\", destino, sep=\"\")\n",
    "                self.imprime()\n",
    "            if dibuja:\n",
    "                self.dibuja()\n",
    "\n",
    "    def imprime(self):        \n",
    "        \"\"\"Imprime una representación gráfica de las torres\"\"\"\n",
    "\n",
    "        n = len(self)\n",
    "        for nivel in range(len(self) - 1, -1, -1):\n",
    "            for poste in self._postes:\n",
    "                if nivel >= len(poste):\n",
    "                    print(\"|\", \" \" * (n - 1), sep=\"\", end=\" \")\n",
    "                else:\n",
    "                    disco = poste[nivel]\n",
    "                    print(\"X\" * disco, \" \" * (n - disco), sep=\"\", end=\" \")\n",
    "            print()\n",
    "        for poste in self._postes:\n",
    "            print(\"=\" * n, sep=\" \", end=\" \")\n",
    "        print()\n",
    "        \n",
    "    def dibuja(self):\n",
    "        axs = []\n",
    "        f, axs = plt.subplots(1, 3, sharex=True, sharey=True, figsize=(3,1))\n",
    "        n = len(self)\n",
    "        for a, p in zip(axs, self._postes):\n",
    "            a.set_aspect(1)\n",
    "            a.axis('off')\n",
    "            p = p + [0] * (n - len(p))\n",
    "            left = [(n - x) / 2 for x in p]\n",
    "            a.barh(range(n), p, height=1, left=left)\n",
    "        plt.tight_layout()\n",
    "        plt.show()\n",
    "        \n",
    "    \"\"\"\n",
    "        Metodo recursivo de hannoi\n",
    "    \"\"\"\n",
    "    def hanoi(self,n, origen , destino , auxiliar, lista):\n",
    "        \n",
    "        if n == 1:\n",
    "            self.mueve( origen , destino )\n",
    "            lista.append((origen,destino))\n",
    "            return\n",
    "      \n",
    "        self.hanoi( n - 1, origen , auxiliar , destino, lista )\n",
    "        lista.append((origen,destino))\n",
    "        self.mueve( origen , destino )\n",
    "        self.hanoi( n - 1, auxiliar , destino , origen, lista )\n",
    "        \n",
    "    def resuelve(self, destino=3):\n",
    "        \"\"\"\n",
    "        Resuelve el problema, moviendo todos los discos al poste destino,\n",
    "        partiendo de cualquier configuración inicial.\n",
    "\n",
    "        Devuelve una secuencia con los movimientos, cada movimiento es un par\n",
    "        (origen, destino).\n",
    "        \"\"\"\n",
    "        lista=[]\n",
    "        origen = 0\n",
    "        aux = 0\n",
    "        \n",
    "        '''\n",
    "            en el caso de que sea una lista [ a, b , c , d , e]\n",
    "                colocamos (a) en b,\n",
    "                colocamos (a,b) en c,\n",
    "                colocamos (a,b,c) en d,\n",
    "                colocamos (a,b,c,d) en e\n",
    "            \n",
    "            Teniendo al final ( a , b, c, d, e,) en un palo\n",
    "        '''\n",
    "        if not self._num:\n",
    "            conjunto = 1\n",
    "            numeroPlatos = len(self._array)\n",
    "            while conjunto < numeroPlatos:\n",
    "                orig = self._array[conjunto-1]\n",
    "                dest = self._array[conjunto]\n",
    "                auxiliar = 6 - (orig + dest)\n",
    "                if orig != dest:\n",
    "                    self.hanoi(conjunto, orig, dest, auxiliar, lista)\n",
    "                conjunto += 1\n",
    "            \n",
    "            origen = self._array[-1]\n",
    "        else:\n",
    "            origen = 1\n",
    "            \n",
    "        aux = 6 - ( origen + destino ) \n",
    "      \n",
    "        self.hanoi(len(self),origen,destino,aux,lista)\n",
    "        return lista"
   ]
  },
  {
   "cell_type": "code",
   "execution_count": 11,
   "metadata": {
    "collapsed": false,
    "deletable": true,
    "editable": true
   },
   "outputs": [
    {
     "name": "stdout",
     "output_type": "stream",
     "text": [
      "Movimientos: [(1, 3), (1, 2), (3, 2), (1, 3), (2, 1), (2, 3), (1, 3)]\n",
      "X   |   |   \n",
      "XX  |   |   \n",
      "XXX |   |   \n",
      "=== === === \n",
      "\n",
      "1->3\n",
      "|   |   |   \n",
      "XX  |   |   \n",
      "XXX |   X   \n",
      "=== === === \n",
      "\n",
      "1->2\n",
      "|   |   |   \n",
      "|   |   |   \n",
      "XXX XX  X   \n",
      "=== === === \n",
      "\n",
      "3->2\n",
      "|   |   |   \n",
      "|   X   |   \n",
      "XXX XX  |   \n",
      "=== === === \n",
      "\n",
      "1->3\n",
      "|   |   |   \n",
      "|   X   |   \n",
      "|   XX  XXX \n",
      "=== === === \n",
      "\n",
      "2->1\n",
      "|   |   |   \n",
      "|   |   |   \n",
      "X   XX  XXX \n",
      "=== === === \n",
      "\n",
      "2->3\n",
      "|   |   |   \n",
      "|   |   XX  \n",
      "X   |   XXX \n",
      "=== === === \n",
      "\n",
      "1->3\n",
      "|   |   X   \n",
      "|   |   XX  \n",
      "|   |   XXX \n",
      "=== === === \n"
     ]
    },
    {
     "data": {
      "image/png": "[encoded data removed]",
      "text/plain": [
       "<matplotlib.figure.Figure at 0x7fa75e0ca780>"
      ]
     },
     "metadata": {},
     "output_type": "display_data"
    },
    {
     "data": {
      "image/png": "[encoded data removed]",
      "text/plain": [
       "<matplotlib.figure.Figure at 0x7fa75ddf9ef0>"
      ]
     },
     "metadata": {},
     "output_type": "display_data"
    },
    {
     "data": {
      "image/png": "[encoded data removed]",
      "text/plain": [
       "<matplotlib.figure.Figure at 0x7fa75e039470>"
      ]
     },
     "metadata": {},
     "output_type": "display_data"
    },
    {
     "data": {
      "image/png": "[encoded data removed]",
      "text/plain": [
       "<matplotlib.figure.Figure at 0x7fa75de69668>"
      ]
     },
     "metadata": {},
     "output_type": "display_data"
    },
    {
     "data": {
      "image/png": "[encoded data removed]",
      "text/plain": [
       "<matplotlib.figure.Figure at 0x7fa75ddb4b38>"
      ]
     },
     "metadata": {},
     "output_type": "display_data"
    },
    {
     "data": {
      "image/png": "[encoded data removed]",
      "text/plain": [
       "<matplotlib.figure.Figure at 0x7fa75dc7b358>"
      ]
     },
     "metadata": {},
     "output_type": "display_data"
    },
    {
     "data": {
      "image/png": "[encoded data removed]",
      "text/plain": [
       "<matplotlib.figure.Figure at 0x7fa75dd50438>"
      ]
     },
     "metadata": {},
     "output_type": "display_data"
    },
    {
     "data": {
      "image/png": "[encoded data removed]",
      "text/plain": [
       "<matplotlib.figure.Figure at 0x7fa75da9f400>"
      ]
     },
     "metadata": {},
     "output_type": "display_data"
    },
    {
     "name": "stdout",
     "output_type": "stream",
     "text": [
      "OK\n"
     ]
    }
   ],
   "source": [
    "def test_hanoi():\n",
    "    \"\"\"Tests para la clase Hanoi.\"\"\"\n",
    "    # 3 discos en el poste 1, mover al poste 3\n",
    "    h = Hanoi(3)\n",
    "    movimientos = h.resuelve()\n",
    "    print (\"Movimientos:\",movimientos)\n",
    "    assert str(h) == \"[3, 3, 3]\"\n",
    "    h = Hanoi(3)\n",
    "    h.realiza_movimientos(movimientos, imprime=True)\n",
    "    h = Hanoi(3)\n",
    "    h.realiza_movimientos(movimientos, dibuja=True)\n",
    "    assert str(h) == \"[3, 3, 3]\"\n",
    "\n",
    "    # 7 discos en el poste 1, mover al poste 2\n",
    "    h = Hanoi(7)\n",
    "    movimientos = h.resuelve(2)\n",
    "    assert str(h) == str([2] * 7)\n",
    "    h = Hanoi(7)\n",
    "    h.realiza_movimientos(movimientos)\n",
    "    assert str(h) == str([2] * 7)\n",
    "\n",
    "    # 3 discos repartidos en los 3 postes\n",
    "    h = Hanoi([1, 3, 2])\n",
    "    movimientos = h.resuelve()\n",
    "    assert str(h) == str([3] * 3)\n",
    "    h = Hanoi([1, 3, 2])\n",
    "    h.realiza_movimientos(movimientos)\n",
    "    assert str(h) == str([3] * 3)  \n",
    "    \n",
    "    # 6 discos repartidos en los 3 postes\n",
    "    h = Hanoi([2, 3, 3, 1, 1, 2])\n",
    "    movimientos = h.resuelve()\n",
    "    assert str(h) == str([3] * 6)\n",
    "    h = Hanoi([2, 3, 3, 1, 1, 2])\n",
    "    h.realiza_movimientos(movimientos)\n",
    "    assert str(h) == str([3] * 6)        \n",
    "\n",
    "    # 9 discos repartidos en los 3 postes\n",
    "    h = Hanoi([2, 3, 3, 1, 1, 2, 3, 1, 2])\n",
    "    movimientos = h.resuelve()\n",
    "    assert str(h) == str([3] * 9)\n",
    "    h = Hanoi([2, 3, 3, 1, 1, 2, 3, 1, 2])\n",
    "    h.realiza_movimientos(movimientos)\n",
    "    assert str(h) == str([3] * 9) \n",
    "\n",
    "    \n",
    "if __name__ == \"__main__\": \n",
    "    test_hanoi()\n",
    "    print(\"OK\")"
   ]
  },
  {
   "cell_type": "code",
   "execution_count": null,
   "metadata": {
    "collapsed": true,
    "deletable": true,
    "editable": true
   },
   "outputs": [],
   "source": []
  },
  {
   "cell_type": "code",
   "execution_count": null,
   "metadata": {
    "collapsed": true,
    "deletable": true,
    "editable": true
   },
   "outputs": [],
   "source": []
  },
  {
   "cell_type": "code",
   "execution_count": null,
   "metadata": {
    "collapsed": true,
    "deletable": true,
    "editable": true
   },
   "outputs": [],
   "source": []
  }
 ],
 "metadata": {
  "anaconda-cloud": {},
  "kernelspec": {
   "display_name": "Python 3",
   "language": "python",
   "name": "python3"
  },
  "language_info": {
   "codemirror_mode": {
    "name": "ipython",
    "version": 3
   },
   "file_extension": ".py",
   "mimetype": "text/x-python",
   "name": "python",
   "nbconvert_exporter": "python",
   "pygments_lexer": "ipython3",
   "version": "3.6.0"
  }
 },
 "nbformat": 4,
 "nbformat_minor": 1
}
