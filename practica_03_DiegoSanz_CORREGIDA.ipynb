{
 "cells": [
  {
   "cell_type": "markdown",
   "metadata": {
    "deletable": true,
    "editable": true
   },
   "source": [
    "## Algoritmia  <font color=\"red\">NOTA: 9.75\n",
    "### Práctica 3\n",
    "El objetivo de esta práctica es trabajar con recurrencias."
   ]
  },
  {
   "cell_type": "markdown",
   "metadata": {
    "deletable": true,
    "editable": true
   },
   "source": [
    "Se pide la implementación de las clases y/o funciones que aparecen a continuación.\n",
    "\n",
    "Las instrucción \"pass\" que aparecen en el cuerpo de las clases o funciones, se debe sustituir por la implementación adecuada.\n",
    "\n",
    "Para cada clase o función que se pide se proporciona una o más funciones con algunos tests.\n",
    "\n",
    "Al llamar a las funciones de test no debería saltar ninguna aserción."
   ]
  },
  {
   "cell_type": "markdown",
   "metadata": {
    "deletable": true,
    "editable": true
   },
   "source": [
    "### Función `generador_recurrencia`   <font color=\"red\">OK"
   ]
  },
  {
   "cell_type": "code",
   "execution_count": 1,
   "metadata": {
    "collapsed": true,
    "deletable": true,
    "editable": true
   },
   "outputs": [],
   "source": [
    "import collections\n",
    "\"\"\"\n",
    "    @Author: DIEGO SANZ VILLAFRUELA\n",
    "    @Date:  23-02-2017\n",
    "\"\"\"\n",
    "def generador_recurrencia(coeficientes, funcion_adicional, iniciales):\n",
    "    \"\"\"\n",
    "    Generador de valores de acuerdo a una recurrencia:\n",
    "    F(n) = coeficientes[0]*F(n-1) + coeficientes[1]*F(n-2) + ...\n",
    "         + funcion_adicional(n)\n",
    "    Los valores iniciales son F(0) = iniciales[0], F(1) = iniciales[1],...\n",
    "    Los valores que se generan son F(0), F(1), F(2),...\n",
    "    Se deben generar los valores de uno en uno, no hay que devolver varios.\n",
    "    Debe generar valores indefinidamente, no hay que poner límites.\n",
    "    Aunque sea una recurrencia, los valores *no* deben calcularse recursivamente.\n",
    "    \"\"\"\n",
    "    \n",
    "    # una cola para almacenar los valores de la recursion\n",
    "    valores = collections.deque()\n",
    "    n = 0\n",
    "    # rellenamos la cola con los valores iniciales\n",
    "    for inicial in iniciales:\n",
    "        # añadimos el valor más nuevo al principio\n",
    "        valores.appendleft(inicial)\n",
    "        yield inicial\n",
    "        n += 1\n",
    "    \n",
    "    # para el resto de valores ( no iniciales )\n",
    "    while True:\n",
    "        valor = 0; i = 0\n",
    "        # calculamos el valor basandonos en los valores guardados de la recursion\n",
    "        for valorAnterior in valores:\n",
    "            # multiplicamos el valor de la recursion por el coeficiente\n",
    "            valor += coeficientes[i] * valorAnterior\n",
    "            i += 1\n",
    "            \n",
    "        # añadimos el valor de la funcion adicional\n",
    "        valor += funcion_adicional(n)\n",
    "        yield valor\n",
    "        n += 1\n",
    "        # borramos el mas antiguo e insertamos el nuevo al principio\n",
    "        valores.pop(); valores.appendleft(valor)\n",
    "    "
   ]
  },
  {
   "cell_type": "code",
   "execution_count": 2,
   "metadata": {
    "collapsed": false,
    "deletable": true,
    "editable": true
   },
   "outputs": [],
   "source": [
    "def comprueba_recurrencia(coeficientes, funcion_adicional, iniciales,\n",
    "                          funcion_alternativa, numero_comprobaciones = 100,\n",
    "                          epsilon = 0.1):\n",
    "    \"\"\"\n",
    "    Dada una recurrencia (definida en términos de sus coeficientes,\n",
    "    condiciones inciales y la función_adicional) comprueba si los valores\n",
    "    generados son (aproximadamente) los mismos que los definidos por una función\n",
    "    alternativa, para un determinado número de comprobaciones.\n",
    "    \"\"\"\n",
    "    \n",
    "    iterador = generador_recurrencia(coeficientes, funcion_adicional, iniciales)\n",
    "    for n in range(numero_comprobaciones):\n",
    "        if abs(next(iterador) - funcion_alternativa(n)) > epsilon:\n",
    "            return False\n",
    "    return True"
   ]
  },
  {
   "cell_type": "code",
   "execution_count": 3,
   "metadata": {
    "collapsed": false,
    "deletable": true,
    "editable": true
   },
   "outputs": [
    {
     "name": "stdout",
     "output_type": "stream",
     "text": [
      "OK\n"
     ]
    }
   ],
   "source": [
    "def test_generador_recurrencia():\n",
    "    \"\"\"Casos de prueba para la función generador_recurrencia.\"\"\"\n",
    "\n",
    "    # Recurrencia f(0)=0, f(n)=f(n-1)+1, que se corresponde con f(n)=n\n",
    "    assert comprueba_recurrencia([1], lambda n: 1, [0], lambda n: n)\n",
    "\n",
    "    # Recurrencia f(0)=1, f(n)=2*f(n-1), que se corresponde con f(n)=2**n\n",
    "    assert comprueba_recurrencia([2], lambda n: 0, [1], lambda n: 2**n)\n",
    "\n",
    "    # Recurrencia f(0)=0, f(n)=f(n-1)+n, que se corresponde con f(n)=n*(n+1)/2\n",
    "    assert comprueba_recurrencia([1], lambda n: n, [0],\n",
    "                                 lambda n: n * (n + 1) / 2)\n",
    "\n",
    "    # Recurrencia f(0)=0, f(n)=f(n-1)+n/2, que se corresponde con f(n)=n*(n+1)/4\n",
    "    assert comprueba_recurrencia([1], lambda n: n / 2, [0],\n",
    "                                 lambda n: n * (n + 1) / 4)\n",
    "\n",
    "    # Recurrencia f(0)=1, f(n)=f(n-1)+2**n, que se corresponde con\n",
    "    # f(n)=2**(n+1)-1\n",
    "    assert comprueba_recurrencia([1], lambda n: 2 ** n, [1],\n",
    "                                 lambda n: 2 ** (n + 1) - 1)\n",
    "\n",
    "    # Recurrencia f(0)=0, f(1)=1, f(n)=4f(n-1)-4f(n-2), que se corresponde con\n",
    "    # f(n)=2**(n-1)*n\n",
    "    assert comprueba_recurrencia([4, -4], lambda n: 0, [0, 1],\n",
    "                                 lambda n: 2 ** (n - 1) * n)\n",
    "\n",
    "    # Recurrencia f(0)=0, f(1)=1, f(n)=2f(n-1)-f(n-2)+1, que se corresponde con\n",
    "    # f(n)=n*(n+1)/2\n",
    "    assert comprueba_recurrencia([2, -1], lambda n: 1, [0, 1],\n",
    "                                 lambda n: n * (n + 1) / 2)\n",
    "\n",
    "    # Recurrencia f(0)=0, f(1)=1, f(2)=2, f(n)=f(n-1)+f(n-2)-f(n-3), que se\n",
    "    # corresponde con f(n)=n\n",
    "    assert comprueba_recurrencia([1, 1, -1],lambda n: 0, [0, 1, 2],\n",
    "                                 lambda n: n)\n",
    "\n",
    "if __name__ == \"__main__\": \n",
    "    test_generador_recurrencia()\n",
    "    print(\"OK\")    "
   ]
  },
  {
   "cell_type": "markdown",
   "metadata": {
    "deletable": true,
    "editable": true
   },
   "source": [
    "### Clase `RecurrenciaMaestra`  <font color=\"red\">-0.25 se emplea getitem en vez del operador []"
   ]
  },
  {
   "cell_type": "code",
   "execution_count": 4,
   "metadata": {
    "collapsed": false,
    "deletable": true,
    "editable": true
   },
   "outputs": [],
   "source": [
    "from math import log\n",
    "\n",
    "\"\"\"\n",
    "    @Author: DIEGO SANZ VILLAFRUELA\n",
    "    @Date:  23-02-2017\n",
    "\"\"\"\n",
    "class RecurrenciaMaestra: \n",
    "    \"\"\"\n",
    "    Clase que representa una recurrencia de las que se consideran en el \n",
    "    teorema maestro, de la forma T(n)=aT(n/b)+n^k. Se interpreta que en n/b\n",
    "    la división es entera.\n",
    "    Además de los métodos que aparecen a continuación, tienen que funcionar \n",
    "    los siguientes operadores: \n",
    "        ==, !=,\n",
    "        str(): la representación como cadena debe ser 'aT(n/b)+n^k'\n",
    "        []: el parámetro entre corchetes es el valor de n para calcular T(n).\n",
    "    \"\"\"\n",
    "    \n",
    "    \"\"\"\n",
    "        Constructor de la clase, los parámetros a, b, y k son los que\n",
    "        aparecen en la fórmula aT(n/b)+n^k. El parámetro inicial es el valor\n",
    "        para T(0).\n",
    "    \"\"\"\n",
    "    def __init__(self, a, b, k, inicial = 0):\n",
    "        self._a = a\n",
    "        self._b = b\n",
    "        self._k = k\n",
    "        self._inicial = inicial\n",
    "\n",
    "    \"\"\"\n",
    "        Metedo equals, para comparar si dos objetos de la clase RecurrenciaMaestra\n",
    "        son iguales.\n",
    "    \"\"\"\n",
    "    def __eq__(self, other):\n",
    "        if isinstance(other, RecurrenciaMaestra):\n",
    "            if  self._a == other._a and self._b == other._b and self._k == other._k:\n",
    "                return True\n",
    "        return False\n",
    "\n",
    "    \n",
    "    \"\"\"\n",
    "        Metedo para comparar si dos objetos de la clase RecurrenciaMaestra\n",
    "        son diferentes.\n",
    "    \"\"\"\n",
    "    def __ne__(self, other):\n",
    "        return not self.__eq__(other)\n",
    "\n",
    "    \n",
    "    \"\"\"\n",
    "        Metedo que devuelve un string con la representación del estado \n",
    "        del objeto\n",
    "    \"\"\"\n",
    "    def __str__(self):\n",
    "        return str(self._a) + \"T(n/\" + str(self._b) + \")+n^\" + str(self._k)\n",
    "\n",
    "    \n",
    "    \"\"\"\n",
    "        Devuelve el valor del T(n)\n",
    "    \"\"\"\n",
    "    def __getitem__(self, n):\n",
    "        if n == 0:\n",
    "            return self._inicial\n",
    "        else:\n",
    "            return self._a * self.__getitem__(n // self._b) + pow(n, self._k)\n",
    "      \n",
    "    \n",
    "    \"\"\"\n",
    "        Devuelve una cadena con el tiempo de la recurrencia de acuerdo al \n",
    "        método maestro. La salida está en el formato \"O(n^x)\" o \"O(n^x*log(n))\",\n",
    "        siendo x un número.\n",
    "    \"\"\"  \n",
    "    def metodo_maestro(self):\n",
    "        if (self._a < pow(self._b, self._k)):\n",
    "            return str(\"O(n^\" + str(self._k) + \")\")\n",
    "\n",
    "        elif (self._a == pow(self._b, self._k)):\n",
    "            return str(\"O(n^\" + str(self._k) + \"*log(n))\")\n",
    "\n",
    "        return \"O(n^\" + str(log(self._a, self._b)) + \")\"\n",
    "    \n",
    "    \n",
    "    \"\"\"\n",
    "        Devuelve un iterador de los valores de la recursión, \n",
    "        empezando desde el 1 hasta infinito.\n",
    "    \"\"\" \n",
    "    def __iter__(self):\n",
    "        # devolvemos el termino inicial\n",
    "        yield self._inicial\n",
    "        n = 0;valor = 0\n",
    "        # creamos un mapa para almacenar los valores de la recursion\n",
    "        mapa = {n:self._inicial}\n",
    "        \n",
    "        # infinito\n",
    "        while True:\n",
    "            n += 1\n",
    "            # calculamos el valor T(n)\n",
    "            valor = self._a * mapa[ n // self._b ] + pow(n,self._k)\n",
    "            yield valor\n",
    "            # añadimos el valor de la recursion al mapa\n",
    "            mapa[n] = valor\n",
    "        "
   ]
  },
  {
   "cell_type": "code",
   "execution_count": 5,
   "metadata": {
    "collapsed": false,
    "deletable": true,
    "editable": true
   },
   "outputs": [
    {
     "name": "stdout",
     "output_type": "stream",
     "text": [
      "OK\n"
     ]
    }
   ],
   "source": [
    "def test_recurrencia_maestra_metodo_maestro(): \n",
    "    \"\"\"Casos de prueba para RecurrenciaMaestra.metodo_maestro().\"\"\" \n",
    "    \n",
    "    # Recurrencia T(n)=3T(n/2)+O(n^2)\n",
    "    resultado = RecurrenciaMaestra(3, 2, 2).metodo_maestro()\n",
    "    assert resultado == \"O(n^2)\"\n",
    "    \n",
    "    # Recurrencia T(n)=2T(n/2)+O(n)\n",
    "    resultado = RecurrenciaMaestra(2, 2, 1).metodo_maestro()\n",
    "    assert resultado == \"O(n^1*log(n))\"\n",
    "\n",
    "    # Recurrencia T(n)=3T(n/2)+O(n)\n",
    "    resultado = RecurrenciaMaestra(3, 2, 1).metodo_maestro()\n",
    "    # esperamos algo parecido a \"O(n^1.5849625007211563)\"\n",
    "    assert \"O(n^1.58\" in resultado\n",
    "    assert \"log\" not in resultado    \n",
    "\n",
    "                 \n",
    "if __name__ == \"__main__\":\n",
    "    test_recurrencia_maestra_metodo_maestro()\n",
    "    print(\"OK\")"
   ]
  },
  {
   "cell_type": "code",
   "execution_count": 6,
   "metadata": {
    "collapsed": false,
    "deletable": true,
    "editable": true
   },
   "outputs": [
    {
     "name": "stdout",
     "output_type": "stream",
     "text": [
      "OK\n"
     ]
    }
   ],
   "source": [
    "def test_recurrencia_maestra_operadores(): \n",
    "    \"\"\"Casos de prueba para los operadores de RecurrenciaMaestra.\"\"\"\n",
    "    \n",
    "    r1 = RecurrenciaMaestra(2, 2, 2)\n",
    "    \n",
    "    # Tests para los operadores == y !=\n",
    "    assert r1 == RecurrenciaMaestra(2, 2, 2)\n",
    "    assert not r1 != RecurrenciaMaestra(2, 2, 2)\n",
    "    for a, b, k in ((1, 1, 1), (1, 1, 2), (1, 2, 1), (2, 1, 1) ):\n",
    "        assert r1 != RecurrenciaMaestra(a, b, k)\n",
    "        assert not r1 == RecurrenciaMaestra(a, b, k)\n",
    "\n",
    "    # Tests para str()\n",
    "    assert str(r1) == \"2T(n/2)+n^2\"\n",
    "    assert str(RecurrenciaMaestra(7, 4, 3)) == \"7T(n/4)+n^3\"\n",
    "    \n",
    "    # Tests para []\n",
    "    for n, valor in enumerate((0, 1, 6, 11, 28, 37, 58, 71, 120, 137, 174, 195, \n",
    "                               260, 285, 338, 367, 496, 529, 598, 635)):\n",
    "        assert r1[n] == valor\n",
    "        \n",
    "    r2 = RecurrenciaMaestra(1, 2, 0, 1) \n",
    "    for n, valor in enumerate((1, 2, 3, 3, 4, 4, 4, 4, 5, 5, 5, 5, 5, 5, 5, 5, \n",
    "                               6, 6, 6, 6)):\n",
    "        assert r2[n] == valor \n",
    "               \n",
    "    r3 = RecurrenciaMaestra(4, 3, 1)\n",
    "    for n, valor in enumerate((0, 1, 2, 7, 8, 9, 14, 15, 16, 37, 38, 39, 44, 45,\n",
    "                               46, 51, 52, 53, 74, 75)):\n",
    "        assert r3[n] == valor  \n",
    "\n",
    "\n",
    "if __name__ == \"__main__\":\n",
    "    test_recurrencia_maestra_operadores()\n",
    "    print(\"OK\")"
   ]
  },
  {
   "cell_type": "code",
   "execution_count": 7,
   "metadata": {
    "collapsed": false,
    "deletable": true,
    "editable": true
   },
   "outputs": [
    {
     "name": "stdout",
     "output_type": "stream",
     "text": [
      "OK\n"
     ]
    }
   ],
   "source": [
    "def test_recurrencia_maestra_genera(): \n",
    "    \"\"\"Casos de prueba para la iteración sobre RecurrenciaMaestra.\"\"\"\n",
    "    \n",
    "    for v1, v2 in zip(RecurrenciaMaestra(2, 2, 2),\n",
    "                      (0, 1, 6, 11, 28, 37, 58, 71, 120, 137, 174, 195, 260, \n",
    "                       285, 338, 367, 496, 529, 598, 635)):\n",
    "        assert v1 == v2\n",
    "\n",
    "    for v1, v2 in zip(RecurrenciaMaestra(1, 2, 0, 1),\n",
    "                      (1, 2, 3, 3, 4, 4, 4, 4, 5, 5, 5, 5, 5, 5, 5, 5, 6, 6, 6,\n",
    "                       6)):\n",
    "        assert v1 == v2\n",
    "        \n",
    "    for v1, v2 in zip(RecurrenciaMaestra(4, 3, 1),\n",
    "                      (0, 1, 2, 7, 8, 9, 14, 15, 16, 37, 38, 39, 44, 45, 46, 51,\n",
    "                       52, 53, 74, 75)):\n",
    "        assert v1 == v2        \n",
    "\n",
    "        \n",
    "if __name__ == \"__main__\":\n",
    "    test_recurrencia_maestra_genera()\n",
    "    print(\"OK\")"
   ]
  },
  {
   "cell_type": "code",
   "execution_count": null,
   "metadata": {
    "collapsed": true,
    "deletable": true,
    "editable": true
   },
   "outputs": [],
   "source": []
  }
 ],
 "metadata": {
  "anaconda-cloud": {},
  "kernelspec": {
   "display_name": "Python 3",
   "language": "python",
   "name": "python3"
  },
  "language_info": {
   "codemirror_mode": {
    "name": "ipython",
    "version": 3
   },
   "file_extension": ".py",
   "mimetype": "text/x-python",
   "name": "python",
   "nbconvert_exporter": "python",
   "pygments_lexer": "ipython3",
   "version": "3.6.0"
  }
 },
 "nbformat": 4,
 "nbformat_minor": 1
}
