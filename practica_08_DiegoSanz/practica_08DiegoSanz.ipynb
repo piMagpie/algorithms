{
 "cells": [
  {
   "cell_type": "markdown",
   "metadata": {},
   "source": [
    "# @Author: DIEGO SANZ VILLAFRUELA\n",
    "# @Date: 20th april 2017"
   ]
  },
  {
   "cell_type": "markdown",
   "metadata": {},
   "source": [
    "## Algoritmia\n",
    "### Práctica 8\n",
    "En esta práctica se plantean dos problemas que se pueden resolver mediante divide y vencerás: \n",
    "\n",
    "- Generar todas las posibles maneras de sumar enteros positivos para alcanzar un determinado valor.\n",
    "- Generar todos los posibles caminos entre dos nodos de un grafo."
   ]
  },
  {
   "cell_type": "markdown",
   "metadata": {},
   "source": [
    "Se pide la implementación de las clases y/o funciones que aparecen a continuación.\n",
    "\n",
    "Las instrucción \"pass\" que aparecen en el cuerpo de las clases o funciones, se debe sustituir por la implementación adecuada.\n",
    "\n",
    "Para cada clase o función que se pide se proporciona una o más funciones con algunos tests.\n",
    "\n",
    "Al llamar a las funciones de test no debería saltar ninguna aserción."
   ]
  },
  {
   "cell_type": "markdown",
   "metadata": {},
   "source": [
    "### Obtener un número entero positivo mediante sumas\n",
    "Dado un número entero positivo, se puede obtener su valor sumando otros enteros positivos. Se quieren obtener todas las posibles maneras. Por ejemplo:\n",
    "\n",
    "- 4 = 1 + 1 + 1 + 1\n",
    "- 4 = 1 + 1 + 2\n",
    "- 4 = 1 + 3\n",
    "- 4 = 2 + 2\n",
    "\n",
    "Se va a considerar que el orden en el que aparecen los enteros no importa y por tanto se entiende que dos soluciones con los mismos valores pero en distinto orden son la misma. Por ejemplo, 1 + 1 + 2 es la misma solución que 1 + 2 + 1 y 2 + 1 + 1.\n",
    "\n",
    "Se puede plantear mediante divide y vencerás. Para obtener el valor n se consideran n-1 subproblemas, donde el primer sumando es i (para i=1 hasta n-1) y las maneras de obtener n-i se obtienen recursivamente."
   ]
  },
  {
   "cell_type": "code",
   "execution_count": 4,
   "metadata": {
    "collapsed": false
   },
   "outputs": [
    {
     "name": "stdout",
     "output_type": "stream",
     "text": [
      "muy eficiente\n"
     ]
    }
   ],
   "source": [
    "\"\"\"\n",
    "    Dado un número entero positivo n, genera todas las posibles maneras de \n",
    "    obtener ese valor mediante sumas de enteros positivos.\n",
    "    Los valores generados son tuplas de enteros, en orden ascendente, cuya suma\n",
    "    es el valor objetivo.\n",
    "    Las tuplas se generan en orden lexicográfico.\n",
    "\"\"\"\n",
    "\n",
    "def sumandos(n):\n",
    "    # almacenamos todas los sumandos(tuplas)\n",
    "    tuplas = []\n",
    "    operandos(1,n,n,tuplas,[])\n",
    "    return tuplas\n",
    "\n",
    "def operandos( a , b , n,tuplas,anteriores):\n",
    "    \n",
    "    mitad = b // 2\n",
    "    indiceB = b\n",
    "    \n",
    "    if a <= mitad: # divide y venceras\n",
    "        for indiceA in range(a ,mitad+1):\n",
    "            # metemos aActual en la lista padre\n",
    "            anteriores.append(indiceA)\n",
    "            \n",
    "            operandos(indiceA, b - indiceA ,n,tuplas,anteriores)\n",
    "            \n",
    "            # colocamos la lista que nos dio el padre y nuestos A y B\n",
    "            tuplas.append(tuple(anteriores+[b - indiceA]))\n",
    "            \n",
    "            # quitamos a de la lista padre. Paa que no afecte a los otros.\n",
    "            anteriores.pop()\n",
    "            indiceB -= 1\n"
   ]
  },
  {
   "cell_type": "markdown",
   "metadata": {},
   "source": [
    "#### Casos de prueba para `sumandos`"
   ]
  },
  {
   "cell_type": "code",
   "execution_count": 5,
   "metadata": {
    "collapsed": false
   },
   "outputs": [
    {
     "name": "stdout",
     "output_type": "stream",
     "text": [
      "OK\n"
     ]
    }
   ],
   "source": [
    "def test_sumandos():\n",
    "    \"\"\"\n",
    "    Casos de prueba para la función sumandos.\n",
    "    \"\"\"\n",
    "   \n",
    "    assert tuple(sumandos(1)) == ()\n",
    "    \n",
    "    assert tuple(sumandos(2)) == ((1, 1),)\n",
    "    \n",
    "    assert tuple(sumandos(3)) == ((1, 1, 1), (1, 2))\n",
    "    \n",
    "    assert tuple(sumandos(4)) == ((1, 1, 1, 1), (1, 1, 2), (1, 3), (2, 2))\n",
    "    \n",
    "    assert tuple(sumandos(5)) == ((1, 1, 1, 1, 1), (1, 1, 1, 2), (1, 1, 3), \n",
    "                                  (1, 2, 2), (1, 4), (2, 3))\n",
    "    \n",
    "    assert tuple(sumandos(6)) == ((1, 1, 1, 1, 1, 1), (1, 1, 1, 1, 2), \n",
    "                                  (1, 1, 1, 3), (1, 1, 2, 2), (1, 1, 4), \n",
    "                                  (1, 2, 3), (1, 5), (2, 2, 2), (2, 4), (3, 3))\n",
    "\n",
    "    # número de maneras diferentes de obtener un determinado valor mediante sumas:\n",
    "    maneras = [0, 0, 1, 2, 4, 6, 10, 14, 21, 29, 41, 55, 76, 100, 134, 175, 230, \n",
    "               296, 384, 489, 626, 791, 1001, 1254, 1574, 1957, 2435, 3009, 3717, \n",
    "               4564, 5603]\n",
    "       \n",
    "    for i in range(1, len(maneras)):\n",
    "        numero = 0\n",
    "        previa = ()\n",
    "        for sums in sumandos(i):\n",
    "            \n",
    "            # los valores suman el valor correspondiente:\n",
    "            assert sum(sums) == i \n",
    "            \n",
    "            # los valores de la tupla están ordenados\n",
    "            assert all(sums[i] <= sums[i + 1] for i in range(len(sums) - 1))\n",
    "            \n",
    "            # las tuplas se generan en orden lexicográfico\n",
    "            assert previa < sums \n",
    "            previa = sums\n",
    "            \n",
    "            numero += 1\n",
    "        \n",
    "        # el número de maneras es el esperado\n",
    "        assert numero == maneras[i]\n",
    "        \n",
    "    \n",
    "if __name__ == \"__main__\": \n",
    "    test_sumandos()\n",
    "    print(\"OK\")"
   ]
  },
  {
   "cell_type": "markdown",
   "metadata": {},
   "source": [
    "### Obtener todos los caminos entre dos nodos de un grafo\n",
    "Dado un grafo y dos nodos del mismo, se quieren obtener todos los caminos distintos entre esos dos nodos. En estos caminos no se admiten ciclos y por tanto un nodo no puede aparecer más de una vez.\n",
    "\n",
    "Se puede abordar mediante divide y vencerás. Para cada nodo vecino al que podemos acceder por un arco desde el nodo origen resolvemos el subproblema de generar todos los caminos entre ese vecino y el destino. Al resolver un subproblema hay que tener en cuenta que nodos forman parte del camino acumulado y por tanto no se pueden usar.\n",
    "\n",
    "Se usarán las implementaciones de grafos desarrolladas en la práctica 2. Dichas implementaciones deben estar en un fichero denominado \"`grafos.py`\" que  también hay que entregar.\n"
   ]
  },
  {
   "cell_type": "code",
   "execution_count": 5,
   "metadata": {
    "collapsed": false
   },
   "outputs": [],
   "source": [
    "from grafos import GrafoMatriz, GrafoListas\n",
    "\"\"\"\n",
    "    Genera todos los posibles caminos entre el nodo origen y el destino.\n",
    "    Los caminos serán tuplas de nodos, sin nodos repetidos.\n",
    "\"\"\"\n",
    "def caminos(grafo, origen, destino):\n",
    "    # almacenamos todos los posibles caminos\n",
    "    resultado = []\n",
    "    rec(grafo,origen,destino,[origen], resultado)\n",
    "    return resultado\n",
    "    \n",
    "def rec(grafo,origen, destino, camino, resultado):\n",
    "    # si el origen es igual a destino devolvemos el camino\n",
    "    if origen == destino:\n",
    "        resultado.append(tuple(camino))  \n",
    "    else: # mostramos los nodos vecinos del ultimo nodo del camino\n",
    "        for child,etiqueta in grafo.vecinos(origen[-1]):\n",
    "            # comprobamos que el siguiente nodo no se encuentra en el camino\n",
    "            if child not in camino:\n",
    "                rec(grafo,child,destino,list(camino)+[child],resultado)\n"
   ]
  },
  {
   "cell_type": "markdown",
   "metadata": {},
   "source": [
    "#### Casos de prueba para `caminos`"
   ]
  },
  {
   "cell_type": "code",
   "execution_count": 6,
   "metadata": {
    "collapsed": false
   },
   "outputs": [
    {
     "name": "stdout",
     "output_type": "stream",
     "text": [
      "OK\n"
     ]
    }
   ],
   "source": [
    "def test_caminos_no_dirigido(): \n",
    "    \"\"\"\n",
    "    Casos de prueba para la función caminos con un grafo no dirigido.\n",
    "    \"\"\"\n",
    "    \n",
    "    arcos = ((\"c\", \"d\"), (\"e\", \"f\"), ('a', 'b'), ('a', 'c'), ('a', 'd'),\n",
    "             ('b', 'c'), ('c', 'e'), ('d', 'e'), ('d', 'f'))\n",
    "    \n",
    "    for claseGrafo in (GrafoMatriz, GrafoListas):\n",
    "    \n",
    "        g = claseGrafo(dirigido = False)\n",
    "\n",
    "        for (origen, destino) in arcos:\n",
    "            g.inserta(origen, destino)\n",
    "\n",
    "        assert len(g) == 6\n",
    "        assert g.num_arcos() == 9\n",
    "        \n",
    "        assert set(caminos(g, \"c\", \"d\")) == {('c', 'e', 'f', 'd'), ('c', 'd'), \n",
    "            ('c', 'a', 'd'), ('c', 'e', 'd'), ('c', 'b', 'a', 'd')}\n",
    "\n",
    "        assert set(caminos(g, \"b\", \"c\")) == {('b', 'a', 'd', 'c'), \n",
    "            ('b', 'a', 'c'), ('b', 'a', 'd', 'f', 'e', 'c'), ('b', 'c'), \n",
    "            ('b', 'a', 'd', 'e', 'c')}\n",
    "\n",
    "        assert set(caminos(g, \"a\", \"f\")) == {('a', 'b', 'c', 'e', 'f'), \n",
    "            ('a', 'c', 'e', 'd', 'f'), ('a', 'd', 'f'), \n",
    "            ('a', 'b', 'c', 'e', 'd', 'f'), ('a', 'd', 'e', 'f'), \n",
    "            ('a', 'c', 'e', 'f'), ('a', 'c', 'd', 'f'), \n",
    "            ('a', 'd', 'c', 'e', 'f'), ('a', 'b', 'c', 'd', 'f'), \n",
    "            ('a', 'c', 'd', 'e', 'f'), ('a', 'b', 'c', 'd', 'e', 'f')}\n",
    "               \n",
    "    \n",
    "if __name__ == \"__main__\": \n",
    "    test_caminos_no_dirigido()\n",
    "    print(\"OK\")"
   ]
  },
  {
   "cell_type": "code",
   "execution_count": 7,
   "metadata": {
    "collapsed": false
   },
   "outputs": [
    {
     "name": "stdout",
     "output_type": "stream",
     "text": [
      "OK\n"
     ]
    }
   ],
   "source": [
    "def test_caminos_dirigido(): \n",
    "    \"\"\"\n",
    "    Casos de prueba para la función caminos con un grafo dirigido.\n",
    "    \"\"\"\n",
    "    \n",
    "    arcos = ((\"c\", \"d\"), (\"e\", \"f\"), ('a', 'b'), ('a', 'c'), ('a', 'd'),\n",
    "             ('b', 'c'), ('c', 'e'), ('d', 'e'), ('d', 'f'))\n",
    "    \n",
    "    for claseGrafo in (GrafoMatriz, GrafoListas):\n",
    "    \n",
    "        g = claseGrafo(dirigido = True)\n",
    "\n",
    "        for (origen, destino) in arcos:\n",
    "            g.inserta(origen, destino)\n",
    "\n",
    "        assert len(g) == 6\n",
    "        assert g.num_arcos() == 9\n",
    "       \n",
    "        assert set(caminos(g, \"c\", \"d\")) == {('c', 'd')}\n",
    "        \n",
    "        assert set(caminos(g, \"c\", \"f\")) == {('c', 'e', 'f'), ('c', 'd', 'f'), \n",
    "            ('c', 'd', 'e', 'f')}\n",
    "        \n",
    "        assert set(caminos(g, \"a\", \"f\")) == {('a', 'b', 'c', 'e', 'f'), \n",
    "            ('a', 'd', 'f'), ('a', 'd', 'e', 'f'), ('a', 'c', 'e', 'f'), \n",
    "            ('a', 'c', 'd', 'f'), ('a', 'b', 'c', 'd', 'f'), \n",
    "            ('a', 'c', 'd', 'e', 'f'), ('a', 'b', 'c', 'd', 'e', 'f')}\n",
    "\n",
    "        \n",
    "if __name__ == \"__main__\": \n",
    "    test_caminos_dirigido()\n",
    "    print(\"OK\")"
   ]
  },
  {
   "cell_type": "code",
   "execution_count": null,
   "metadata": {
    "collapsed": true
   },
   "outputs": [],
   "source": []
  },
  {
   "cell_type": "code",
   "execution_count": null,
   "metadata": {
    "collapsed": true
   },
   "outputs": [],
   "source": []
  }
 ],
 "metadata": {
  "anaconda-cloud": {},
  "kernelspec": {
   "display_name": "Python 3",
   "language": "python",
   "name": "python3"
  },
  "language_info": {
   "codemirror_mode": {
    "name": "ipython",
    "version": 3
   },
   "file_extension": ".py",
   "mimetype": "text/x-python",
   "name": "python",
   "nbconvert_exporter": "python",
   "pygments_lexer": "ipython3",
   "version": "3.6.0"
  }
 },
 "nbformat": 4,
 "nbformat_minor": 1
}
