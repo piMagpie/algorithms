{
 "cells": [
  {
   "cell_type": "markdown",
   "metadata": {},
   "source": [
    "# AUTHOR: DIEGO SANZ VILLAFRUELA\n",
    "\n",
    "# DATE: 8 - 05 - 2017"
   ]
  },
  {
   "cell_type": "markdown",
   "metadata": {},
   "source": [
    "## Algoritmia\n",
    "### Práctica 10\n",
    "En esta práctica se consideran problemas sobre grafos que son NP completos: cubrimiento y clique"
   ]
  },
  {
   "cell_type": "markdown",
   "metadata": {},
   "source": [
    "### Grafos\n",
    "Las funciones a implementar trabajan con grafos. En vez de utilizar alguna implementación de un tipo específico para grafos, estos se representan como diccionarios donde las claves son los nodos del grafo y los valores asociados a una clave son el conjunto de nodos destino de los arcos con origen en el nodo clave."
   ]
  },
  {
   "cell_type": "markdown",
   "metadata": {},
   "source": [
    "Se pide la implementación de las clases y/o funciones que aparecen a continuación.\n",
    "\n",
    "Las instrucción \"pass\" que aparecen en el cuerpo de las clases o funciones, se debe sustituir por la implementación adecuada.\n",
    "\n",
    "Para cada clase o función que se pide se proporciona una o más funciones con algunos tests.\n",
    "\n",
    "Al llamar a las funciones de test no debería saltar ninguna aserción."
   ]
  },
  {
   "cell_type": "markdown",
   "metadata": {},
   "source": [
    "### Clique"
   ]
  },
  {
   "cell_type": "code",
   "execution_count": 4,
   "metadata": {
    "collapsed": true
   },
   "outputs": [],
   "source": [
    "\"\"\"\n",
    "    Devuelve un booleano indicando si el conjunto de nodos es un clique.\n",
    "    Un conjunto de nodos es un clique si hay un arco entre todos los pares de\n",
    "    nodos del conjunto.\n",
    "\"\"\"\n",
    "def es_clique(grafo, nodos):\n",
    "    # para cada nodo del clique miramos a ver si tiene al menos\n",
    "    # los vecinos en el clique. Si tiene menos vecinos en el clique\n",
    "    # que los que forman el clique devolvemos falso.\n",
    "    numArcosCadaNodo = len(nodos) - 1\n",
    "    for nodoClique in nodos:\n",
    "        vecinos = grafo[nodoClique]\n",
    "        contador = 0\n",
    "        for vecino in vecinos:\n",
    "            if vecino in nodos:\n",
    "                contador += 1\n",
    "        if contador != numArcosCadaNodo:\n",
    "            return False\n",
    "    \n",
    "    return True"
   ]
  },
  {
   "cell_type": "markdown",
   "metadata": {},
   "source": [
    "### Cubrimiento"
   ]
  },
  {
   "cell_type": "code",
   "execution_count": 5,
   "metadata": {},
   "outputs": [],
   "source": [
    "\"\"\"\n",
    "    Devuelve un booleano indicando si los nodos son un cubrimiento del grafo.\n",
    "    Un conjunto de nodos es un cubrimiento si todos los arcos son adyacentes a\n",
    "    al menos un nodo del conjunto.\n",
    "\"\"\"\n",
    "# el recubrimiento es el numero de nodos que abarcan todas las aristas del grafo\n",
    "def es_cubrimiento(grafo, nodos):\n",
    "  \n",
    "    # recorro cada arco del grafo y miro a ver si el destino y el origen  no estan\n",
    "    # en el recubrimiento, devolviendo falso.\n",
    "    for nodo,vecinos in grafo.items():\n",
    "        for vecino in vecinos:\n",
    "            # miro a ver si el origen y el destino no estan en el recubrimiento\n",
    "            if nodo not in nodos and vecino not in nodos:\n",
    "                return False\n",
    "        \n",
    "    return True"
   ]
  },
  {
   "cell_type": "markdown",
   "metadata": {},
   "source": [
    "### Grafos de prueba"
   ]
  },
  {
   "cell_type": "code",
   "execution_count": 6,
   "metadata": {},
   "outputs": [],
   "source": [
    "def grafo_de_prueba(num_nodos):\n",
    "    \"\"\"\n",
    "    Función que crea un grafo de prueba. Recibe un número de nodos, el grafo\n",
    "    generado tendrá el doble de nodos, en dos grupos: a0, a1, a2... y b0, b1, \n",
    "    b2...\n",
    "    Hay un arco entre cada par de nodos con el mismo índice: a0-b0, a1-b1...\n",
    "    Hay un arco entre todos los nodos a0, a1, a2... \n",
    "    \"\"\"\n",
    "    \n",
    "    grafo = {}\n",
    "    for i in range(num_nodos):\n",
    "        nodo_a = \"a\" + str(i)\n",
    "        nodo_b = \"b\" + str(i)\n",
    "        grafo[nodo_a] = {nodo_b}\n",
    "        grafo[nodo_b] = {nodo_a}\n",
    "        for j in range(i):\n",
    "            n = \"a\" + str(j)\n",
    "            grafo[nodo_a].add(n)\n",
    "            grafo[n].add(nodo_a)\n",
    "    return grafo"
   ]
  },
  {
   "cell_type": "markdown",
   "metadata": {},
   "source": [
    "### Tests para `es_clique`"
   ]
  },
  {
   "cell_type": "code",
   "execution_count": 7,
   "metadata": {},
   "outputs": [
    {
     "name": "stdout",
     "output_type": "stream",
     "text": [
      "OK\n"
     ]
    }
   ],
   "source": [
    "def test_es_clique(num_nodos):\n",
    "    \"\"\"Función que prueba es_clique.\"\"\"\n",
    "\n",
    "    grafo = grafo_de_prueba(num_nodos)\n",
    "    nodos_a, nodos_b, nodos = set(), set(), set()\n",
    "    for i in range(num_nodos):\n",
    "        a = \"a\" + str(i)\n",
    "        b = \"b\" + str(i)\n",
    "        nodos_a.add(a)\n",
    "        nodos_b.add(b)\n",
    "        nodos.update((a,b))\n",
    "        assert es_clique(grafo, nodos_a)\n",
    "        if i > 0:\n",
    "            assert not es_clique(grafo, nodos_b)\n",
    "            assert not es_clique(grafo, nodos)   \n",
    "            \n",
    "if __name__ == \"__main__\": \n",
    "    test_es_clique(10)\n",
    "    print(\"OK\")               "
   ]
  },
  {
   "cell_type": "markdown",
   "metadata": {},
   "source": [
    "### Tests para `es_cubrimiento`"
   ]
  },
  {
   "cell_type": "code",
   "execution_count": 9,
   "metadata": {},
   "outputs": [
    {
     "name": "stdout",
     "output_type": "stream",
     "text": [
      "OK\n"
     ]
    }
   ],
   "source": [
    "def test_es_cubrimiento(num_nodos):\n",
    "    \"\"\"Función que prueba es_cubrimiento.\"\"\"\n",
    "\n",
    "    grafo = grafo_de_prueba(num_nodos)\n",
    "    nodos_a, nodos_b, nodos = set(), set(), set()\n",
    "    for i in range(num_nodos):\n",
    "        assert not es_cubrimiento(grafo, nodos_a)\n",
    "        assert not es_cubrimiento(grafo, nodos_b)\n",
    "        assert not es_cubrimiento(grafo, nodos)\n",
    "        a = \"a\" + str(i)\n",
    "        b = \"b\" + str(i)\n",
    "        nodos_a.add(a)\n",
    "        nodos_b.add(b)\n",
    "        nodos.update((a,b))\n",
    "    assert es_cubrimiento(grafo, nodos_a)\n",
    "    assert not es_cubrimiento(grafo, nodos_b)\n",
    "    assert es_cubrimiento(grafo, nodos)\n",
    "    \n",
    "if __name__ == \"__main__\": \n",
    "    test_es_cubrimiento(10)\n",
    "    print(\"OK\")    "
   ]
  },
  {
   "cell_type": "markdown",
   "metadata": {},
   "source": [
    "### Clique máximo"
   ]
  },
  {
   "cell_type": "code",
   "execution_count": 10,
   "metadata": {
    "collapsed": true
   },
   "outputs": [],
   "source": [
    "\"\"\"Dado un grafo, devuelve un conjunto de nodos que es un clique máximo.\"\"\"\n",
    "\n",
    "from itertools import combinations\n",
    "\n",
    "def clique_maximo(grafo):\n",
    "    # el conjunto de nodos\n",
    "    nodos =  { nodo for nodo in grafo }\n",
    "    \n",
    "    # generamos las combinaciones en grupos\n",
    "    for grupo in range(len(grafo),0,-1):\n",
    "        for i in combinations(nodos, grupo):\n",
    "            # miramos si es clique\n",
    "            if ( es_clique(grafo, i)):\n",
    "                return set(i)"
   ]
  },
  {
   "cell_type": "markdown",
   "metadata": {},
   "source": [
    "### Tests para `clique_maximo`"
   ]
  },
  {
   "cell_type": "code",
   "execution_count": 14,
   "metadata": {},
   "outputs": [
    {
     "name": "stdout",
     "output_type": "stream",
     "text": [
      "OK\n"
     ]
    }
   ],
   "source": [
    "def test_clique_maximo(max_nodos):\n",
    "    \"\"\"Función que prueba clique_maximo.\"\"\"    \n",
    "            \n",
    "    # Grafo lineales, cada nodo está conectado solo con el siguiente:\n",
    "    grafo = {1 : set()}\n",
    "    for i in range(2, max_nodos + 1):\n",
    "        grafo[i - 1].add(i)\n",
    "        grafo[i] = {i - 1}\n",
    "        clique = clique_maximo(grafo)\n",
    "        assert es_clique(grafo, clique)\n",
    "        assert len(clique) == 2\n",
    "\n",
    "    # Grafos completos, cada nodo está conectado con todos los demás:\n",
    "    grafo = {1 : set()}\n",
    "    for i in range(2, max_nodos + 1):\n",
    "        grafo[i] = {j for j in range(1,i)}\n",
    "        for j in range(1, i):\n",
    "            grafo[j].add(i)\n",
    "        clique = clique_maximo(grafo)\n",
    "        assert es_clique(grafo, clique)\n",
    "        assert len(clique) == i\n",
    "\n",
    "    # Grafos generados con grafo_de_prueba()\n",
    "    for i in range(3, max_nodos + 1):\n",
    "        grafo = grafo_de_prueba(i)\n",
    "        clique = clique_maximo(grafo)\n",
    "        assert len(clique) == i\n",
    "        assert es_clique(grafo, clique)\n",
    "        clique.add(\"b0\")\n",
    "        assert not es_clique(grafo, clique)\n",
    "            \n",
    "if __name__ == \"__main__\": \n",
    "    test_clique_maximo(10)\n",
    "    print(\"OK\")   "
   ]
  },
  {
   "cell_type": "markdown",
   "metadata": {},
   "source": [
    "### Cubrimiento mínimo"
   ]
  },
  {
   "cell_type": "code",
   "execution_count": 15,
   "metadata": {},
   "outputs": [],
   "source": [
    "from itertools import combinations\n",
    "\n",
    "\"\"\"\n",
    "    Dado un grafo, devuelve un conjunto de nodos que es un cubrimiento \n",
    "    mínimo.\n",
    "\"\"\"\n",
    "def cubrimiento_minimo(grafo):\n",
    "    # el conjunto de nodos\n",
    "    nodos =  { nodo for nodo in grafo }\n",
    "\n",
    "    # generamos las combinaciones en grupos\n",
    "    for grupo in range(1,len(grafo)+1):\n",
    "        for i in combinations(nodos, grupo):\n",
    "            # miramos si es cubrimiento \n",
    "            if (es_cubrimiento(grafo, i)):\n",
    "                return list(i)"
   ]
  },
  {
   "cell_type": "markdown",
   "metadata": {},
   "source": [
    "### Tests para `cubrimiento_minimo`"
   ]
  },
  {
   "cell_type": "code",
   "execution_count": 13,
   "metadata": {},
   "outputs": [
    {
     "name": "stdout",
     "output_type": "stream",
     "text": [
      "OK\n"
     ]
    }
   ],
   "source": [
    "def test_cubrimiento_minimo(max_nodos):\n",
    "    \"\"\"Función que prueba cubrimiento_minimo.\"\"\"    \n",
    "           \n",
    "    # Grafos lineales, cada nodo está conectado solo con el siguiente:\n",
    "    grafo = {1 : set()}\n",
    "    for i in range(2, max_nodos + 1):\n",
    "        grafo[i - 1].add(i)\n",
    "        grafo[i] = {i - 1}\n",
    "        cubrimiento = cubrimiento_minimo(grafo)\n",
    "        assert es_cubrimiento(grafo, cubrimiento)\n",
    "        assert len(cubrimiento) == i // 2\n",
    "        cubrimiento.pop()\n",
    "        assert not es_cubrimiento(grafo, cubrimiento)\n",
    "\n",
    "    # Grafos completos, cada nodo está conectado con todos los demás:\n",
    "    grafo = {1 : set()}\n",
    "    for i in range(2, max_nodos + 1):\n",
    "        grafo[i] = {j for j in range(1,i)}\n",
    "        for j in range(1, i):\n",
    "            grafo[j].add(i)\n",
    "        cubrimiento = cubrimiento_minimo(grafo)\n",
    "        assert es_cubrimiento(grafo, cubrimiento)\n",
    "        assert len(cubrimiento) == i - 1\n",
    "        cubrimiento.pop()\n",
    "        assert not es_cubrimiento(grafo, cubrimiento)\n",
    "        \n",
    "    # Grafos generados con grafo_de_prueba()\n",
    "    for i in range(1, max_nodos + 1):\n",
    "        grafo = grafo_de_prueba(i)\n",
    "        cubrimiento = cubrimiento_minimo(grafo)\n",
    "        assert len(cubrimiento) == i\n",
    "        assert es_cubrimiento(grafo, cubrimiento)   \n",
    "        cubrimiento.pop()\n",
    "        assert not es_cubrimiento(grafo, cubrimiento)\n",
    "            \n",
    "if __name__ == \"__main__\": \n",
    "    test_cubrimiento_minimo(10)\n",
    "    print(\"OK\")   "
   ]
  },
  {
   "cell_type": "code",
   "execution_count": null,
   "metadata": {
    "collapsed": true
   },
   "outputs": [],
   "source": []
  },
  {
   "cell_type": "code",
   "execution_count": null,
   "metadata": {
    "collapsed": true
   },
   "outputs": [],
   "source": []
  }
 ],
 "metadata": {
  "anaconda-cloud": {},
  "kernelspec": {
   "display_name": "Python 3",
   "language": "python",
   "name": "python3"
  },
  "language_info": {
   "codemirror_mode": {
    "name": "ipython",
    "version": 3
   },
   "file_extension": ".py",
   "mimetype": "text/x-python",
   "name": "python",
   "nbconvert_exporter": "python",
   "pygments_lexer": "ipython3",
   "version": "3.6.8"
  }
 },
 "nbformat": 4,
 "nbformat_minor": 1
}
