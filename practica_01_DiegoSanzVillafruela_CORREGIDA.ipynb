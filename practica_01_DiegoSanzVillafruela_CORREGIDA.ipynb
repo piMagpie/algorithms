{
 "cells": [
  {
   "cell_type": "markdown",
   "metadata": {
    "deletable": true,
    "editable": true
   },
   "source": [
    "## Algoritmia <font color=\"red\"> NOTA: 10\n",
    "### Práctica 1\n",
    "El objetivo de esta práctica es trabajar con iteradores y generadores."
   ]
  },
  {
   "cell_type": "markdown",
   "metadata": {
    "deletable": true,
    "editable": true
   },
   "source": [
    "Se pide la implementación de las funciones que aparecen a continuación. \n",
    "\n",
    "En el cuerpo de cada función hay una instrucción \"pass\", se debe sustituir por la implementación adecuada. \n",
    "\n",
    "Para cada función que se pide se proporciona una función con algunos tests. \n",
    "\n",
    "Al llamar a las funciones de test no debería saltar ninguna aserción."
   ]
  },
  {
   "cell_type": "markdown",
   "metadata": {
    "deletable": true,
    "editable": true
   },
   "source": [
    "### `iterador_con_sustitucion`   <font color=\"red\"> OK"
   ]
  },
  {
   "cell_type": "code",
   "execution_count": 9,
   "metadata": {
    "collapsed": false,
    "deletable": true,
    "editable": true
   },
   "outputs": [],
   "source": [
    "\"\"\"\n",
    "    @Author : Diego Sanz Villafruela\n",
    "    \n",
    "    Dado un iterable genera sus valores una vez aplicadas las sustituciones \n",
    "    indicadas por el diccionario de cambios.\n",
    "    Los valores no hay que devolverlos todos a la vez, se deben generar de uno \n",
    "    en uno.\n",
    "    \n",
    "    @param iterable: elemento iterable\n",
    "    @param cambios: mapa \n",
    "    \"\"\"\n",
    "def iterador_con_sustitucion(iterable, cambios):\n",
    "    \n",
    "    for elemento in iterable:\n",
    "        # si el elemento se encuentra en el mapa, devolvemos el valor asociado\n",
    "        if elemento in cambios:\n",
    "            yield cambios[elemento]\n",
    "        # si no se encuentra en el mapa devolvemos el elemento\n",
    "        else:\n",
    "            yield elemento\n",
    "   \n",
    "        "
   ]
  },
  {
   "cell_type": "code",
   "execution_count": 10,
   "metadata": {
    "collapsed": false,
    "deletable": true,
    "editable": true
   },
   "outputs": [
    {
     "name": "stdout",
     "output_type": "stream",
     "text": [
      "OK\n"
     ]
    }
   ],
   "source": [
    "def test_iterador_con_sustitucion(): \n",
    "    \"\"\"\n",
    "    Casos de prueba para iterador_con_sustitucion().\n",
    "    \"\"\"\n",
    "    \n",
    "    for iterable, cambios, iterable_sustituido in (\n",
    "        ([1, 2, 3, 4, 1, 2], {2: 1, 1: 2, 3: 5}, [2, 1, 5, 4, 2, 1]),\n",
    "        ([1, 2, 3, 4, 1, 2] * 100, {2: 1, 1: 2, 3: 5}, \n",
    "            [2, 1, 5, 4, 2, 1] * 100),\n",
    "        (\"abcdb\" * 100, {'a': 'z', 'b': 'a', 'd': 'y'},\n",
    "            ['z', 'a', 'c', 'y', 'a'] * 100)\n",
    "    ):\n",
    "        assert (list(iterador_con_sustitucion(iterable, cambios)) \n",
    "                == iterable_sustituido)\n",
    "        it = iterador_con_sustitucion(iterable, cambios)\n",
    "        for e in iterable_sustituido:\n",
    "            assert e == next(it)\n",
    "            \n",
    "    for v in iterador_con_sustitucion(range(10**100), {0: 0}):\n",
    "        if v >= 100:\n",
    "            break\n",
    "            \n",
    "    return True\n",
    "            \n",
    "if __name__ == \"__main__\": \n",
    "    test_iterador_con_sustitucion()\n",
    "    print(\"OK\")  "
   ]
  },
  {
   "cell_type": "markdown",
   "metadata": {
    "deletable": true,
    "editable": true
   },
   "source": [
    "### `iterador_anidado`  <font color=\"red\"> Ok"
   ]
  },
  {
   "cell_type": "code",
   "execution_count": 11,
   "metadata": {
    "collapsed": true,
    "deletable": true,
    "editable": true
   },
   "outputs": [],
   "source": [
    "import collections   # por si es necesario usar collections.Iterable\n",
    "\n",
    "\"\"\"\n",
    "    @Author : Diego Sanz Villafruela\n",
    "\n",
    "    Iterador que genera los valores en elemento recursivamente: si elemento no \n",
    "    es iterable genera solo elemento, pero si elemento es iterable genera sus\n",
    "    elementos de manera recursiva.\n",
    "    Los valores se deben generar de uno en uno.\n",
    "    \n",
    "    @param elemento: elemento iterable ej: [1,2,3,[4,5,6] ,[1,[1,2] ] ]\n",
    "    \"\"\"\n",
    "def iterador_anidado(elemento):\n",
    "    # comprobamos si el elemento es itererable\n",
    "    if not isinstance(elemento, collections.Iterable):\n",
    "        yield elemento;\n",
    "    else:\n",
    "        # si el elemento es iterable\n",
    "        for e in elemento:\n",
    "            # recorremos el iterador\n",
    "            for i in iterador_anidado(e):\n",
    "                yield i\n",
    "    "
   ]
  },
  {
   "cell_type": "code",
   "execution_count": 12,
   "metadata": {
    "collapsed": false,
    "deletable": true,
    "editable": true
   },
   "outputs": [
    {
     "name": "stdout",
     "output_type": "stream",
     "text": [
      "OK\n"
     ]
    }
   ],
   "source": [
    "def test_iterador_anidado():\n",
    "    \"\"\"\n",
    "    Casos de prueba para iterador_anidado()\n",
    "    \"\"\"\n",
    "    \n",
    "    assert isinstance([4], collections.Iterable)\n",
    "\n",
    "    assert not isinstance(4, collections.Iterable)\n",
    "    \n",
    "    assert list(iterador_anidado(4)) == [4]\n",
    "\n",
    "    assert list(iterador_anidado([4])) == [4]\n",
    "\n",
    "    assert list(iterador_anidado((4,))) == [4]\n",
    "\n",
    "    assert list(iterador_anidado([[4]])) == [4]\n",
    "\n",
    "    assert list(iterador_anidado([1, [2, [3], 4]])) == [1, 2, 3, 4]\n",
    "\n",
    "    l1 = []; l2 = []; l3 = []\n",
    "    for i in range(100):\n",
    "        l1 += [i]\n",
    "        l2 = [l2, i]\n",
    "        assert l1 == list(iterador_anidado(l2))\n",
    "        l3 = [(l3, [i])]\n",
    "        assert l1 == list(iterador_anidado(l3))\n",
    "        \n",
    "    for v in iterador_anidado(range(10**100)):\n",
    "        if v > 100:\n",
    "            break\n",
    "    \n",
    "    return True\n",
    "\n",
    "if __name__ == \"__main__\": \n",
    "    test_iterador_anidado()\n",
    "    print(\"OK\")"
   ]
  },
  {
   "cell_type": "markdown",
   "metadata": {
    "deletable": true,
    "editable": true
   },
   "source": [
    "### `generador_media_movil` <font color=\"red\"> OK"
   ]
  },
  {
   "cell_type": "code",
   "execution_count": 13,
   "metadata": {
    "collapsed": false,
    "deletable": true,
    "editable": true
   },
   "outputs": [],
   "source": [
    "\"\"\"\n",
    "    @Author : Diego Sanz Villafruela\n",
    "    \n",
    "    Este metodo esta hecho para que sea muy eficiente. En vez de volver ha sumar todos los elementos de la secuencia,\n",
    "    se resta el antiguo y se suma el nuevo. \n",
    "    \n",
    "    Así conseguimos O(len(iterable)), de la otra forma sería O(len(iterable) * longitud)\n",
    "\n",
    "    Dado un iterable de valores numéricos, genera los valores de la media móvil \n",
    "    de la longitud indicada.\n",
    "    Por ejemplo, si la longitud es 3, generaría la media de los 3 primeros\n",
    "    valores, de los valores del 2º al 4º, de los valores del 3º al 5º...\n",
    "    Los valores se deben generar de uno en uno.\n",
    "    \n",
    "    @param iterable: un iterable de valores numericos\n",
    "    @param longitud: la longitud utilizada para calcular la media movil\n",
    "    \"\"\"\n",
    "# complejidad de O(len(iterable)) muy eficiente\n",
    "def generador_media_movil(iterable, longitud): \n",
    "        \n",
    "    if iterable == None or longitud < 1:\n",
    "        raise ValueError('Parametros incorrectos')\n",
    "    iterador = iter(iterable)\n",
    "    acumulador = 0\n",
    "    # uso de una lista de tamano = longitud, \n",
    "    # para almacenar elementos y no tener que voler a recorrerlos.\n",
    "    lista = []\n",
    "\n",
    "    # calculo inicial de los n longitud elementos\n",
    "    for i in range(longitud):\n",
    "        valor = next(iterador,None)\n",
    "        if valor is not None:\n",
    "            lista.append(valor)\n",
    "            acumulador += valor\n",
    "        else:\n",
    "            raise ValueError('Error: len(iterable) < longitud')\n",
    "    \n",
    "    yield acumulador/longitud\n",
    "    \n",
    "    indice = 0;\n",
    "    acumulador -= lista[indice]\n",
    "    valor = next(iterador,None)\n",
    "    \n",
    "    # mientras siga habiendo elementos\n",
    "    while valor != None:\n",
    "        # añadimos el nuevo valor\n",
    "        lista[indice] = valor\n",
    "        acumulador += valor\n",
    "        yield acumulador/longitud\n",
    "        \n",
    "        valor = next(iterador,None)\n",
    "        indice += 1\n",
    "        \n",
    "        # borramos el antiguo valor, y reseteamos indice de la lista si es = a longitud\n",
    "        # la lista tiene tamano longitud, reseteamos el indice cuando llegue a longitud\n",
    "        if indice  == longitud:\n",
    "            indice = 0\n",
    "        acumulador -= lista[indice]\n",
    "\n",
    "        \n"
   ]
  },
  {
   "cell_type": "code",
   "execution_count": 14,
   "metadata": {
    "collapsed": false,
    "deletable": true,
    "editable": true
   },
   "outputs": [
    {
     "name": "stdout",
     "output_type": "stream",
     "text": [
      "OK\n"
     ]
    }
   ],
   "source": [
    "def test_generador_media_movil(): \n",
    "    \"\"\"\n",
    "    Casos de prueba para generador_media_movil().\n",
    "    \"\"\"\n",
    "    \n",
    "    for secuencia in (list(range(10)), tuple(range(10)), range(10)):\n",
    "        assert (list(generador_media_movil(secuencia, 1))\n",
    "                == [0.0, 1.0, 2.0, 3.0, 4.0, 5.0, 6.0, 7.0, 8.0, 9.0])\n",
    "        assert (list(generador_media_movil(secuencia, 2))\n",
    "                == [0.5, 1.5, 2.5, 3.5, 4.5, 5.5, 6.5, 7.5, 8.5])\n",
    "        assert (list(generador_media_movil(secuencia, 3))\n",
    "                == [1.0, 2.0, 3.0, 4.0, 5.0, 6.0, 7.0, 8.0])   \n",
    "        assert (list(generador_media_movil(secuencia, 4)) \n",
    "                == [1.5, 2.5, 3.5, 4.5, 5.5, 6.5, 7.5])  \n",
    "        assert (list(generador_media_movil(secuencia, 5))\n",
    "                == [2.0, 3.0, 4.0, 5.0, 6.0, 7.0])  \n",
    "\n",
    "    assert list(generador_media_movil(range(100), 1)) == list(range(100))    \n",
    "    assert list(generador_media_movil(range(100), 3)) == list(range(1, 99))    \n",
    "    assert list(generador_media_movil(range(100), 5)) == list(range(2, 98))\n",
    "    \n",
    "    assert list(generador_media_movil(range(100), 2)) == [x + 0.5 for x in range(99)]\n",
    "    assert list(generador_media_movil(range(100), 4)) == [x + 1.5 for x in range(97)]\n",
    "\n",
    "    assert (list(generador_media_movil(range(100, 0, -1), 1)) \n",
    "            == list(range(100, 0, -1)))\n",
    "    assert (list(generador_media_movil(range(100, 0, -1), 3)) \n",
    "            == list(range(99, 1, -1)))\n",
    "    assert (list(generador_media_movil(range(100, 0, -1), 5)) \n",
    "            == list(range(98, 2, -1)))\n",
    "    \n",
    "    it = generador_media_movil(range(1000),4)\n",
    "    for v in range(997):\n",
    "        assert next(it) == v + 1.5 \n",
    "        \n",
    "    assert list(generador_media_movil([1, 2] * 1000, 2)) == [1.5] * 1999     \n",
    "    assert list(generador_media_movil([1, 2] * 1000, 3)) == [4/3, 5/3] * 999\n",
    "       \n",
    "    for v in generador_media_movil(range(10**100), 10):\n",
    "        if v >= 100:\n",
    "            break\n",
    "        \n",
    "    return True\n",
    "\n",
    "if __name__ == \"__main__\": \n",
    "    test_generador_media_movil()\n",
    "    print(\"OK\")"
   ]
  },
  {
   "cell_type": "markdown",
   "metadata": {
    "deletable": true,
    "editable": true
   },
   "source": [
    "### `iterador_incluido`  <font color=\"red\"> OK"
   ]
  },
  {
   "cell_type": "code",
   "execution_count": 15,
   "metadata": {
    "collapsed": true,
    "deletable": true,
    "editable": true
   },
   "outputs": [],
   "source": [
    "\"\"\"\n",
    "    @Author : Diego Sanz Villafruela\n",
    "\n",
    "    Dado un primer iterador o iterable, comprueba que sus elementos están\n",
    "    incluidos en el mismo orden en los elementos de un segundo iterador o \n",
    "    iterable.\n",
    "    \n",
    "    @param itera_1: iterador o iterable de los elementos a comprobar\n",
    "    @param itera_2: iterador o iterable de los elementos que han de estar incluidos en el mismo orden\n",
    "    \"\"\"\n",
    "def iterador_incluido(itera_1, itera_2):\n",
    "    \n",
    "    it2 = iter(itera_2)\n",
    "    \n",
    "    for elem_1 in itera_1:\n",
    "        valor = next(it2,None)\n",
    "        # si no quedan mas elementos en itera_2\n",
    "        if valor is None:\n",
    "            return False\n",
    "        # hasta que no encontremos un elemento igual en itera_2\n",
    "        while valor != elem_1:\n",
    "            valor = next(it2,None)\n",
    "            # si no quedan mas elementos en itera_2\n",
    "            if valor is None:\n",
    "                return False\n",
    "    \n",
    "    return True"
   ]
  },
  {
   "cell_type": "code",
   "execution_count": 16,
   "metadata": {
    "collapsed": false,
    "deletable": true,
    "editable": true
   },
   "outputs": [
    {
     "name": "stdout",
     "output_type": "stream",
     "text": [
      "OK\n"
     ]
    }
   ],
   "source": [
    "def test_iterador_incluido():\n",
    "    \"\"\"\n",
    "    Casos de prueba para iterador_incluido().\n",
    "    \"\"\"\n",
    "    \n",
    "    assert iterador_incluido(range(100), range(100))     \n",
    "    assert iterador_incluido(range(99), range(100))     \n",
    "    assert iterador_incluido(range(1,100), range(100))     \n",
    "\n",
    "    assert not iterador_incluido(range(100), range(99))\n",
    "    assert not iterador_incluido(range(100), range(1, 100))\n",
    "    \n",
    "    assert iterador_incluido(range(10, 90, 3), range(100))\n",
    "    assert not iterador_incluido(range(10, 110, 3), range(100))\n",
    "\n",
    "    assert not iterador_incluido(range(10, 110, 3), range(100))    \n",
    "    \n",
    "    l = list(range(10, 90, 3))\n",
    "    assert iterador_incluido(l, range(100))\n",
    "    l[20] = 11\n",
    "    assert not iterador_incluido(l, range(100))\n",
    "    assert not iterador_incluido(iter(l), range(100))\n",
    "    \n",
    "    assert iterador_incluido(range(1000), range(10**100))\n",
    "    assert not iterador_incluido(range(10**100), range(1000))\n",
    "    \n",
    "    return True\n",
    "    \n",
    "if __name__ == \"__main__\": \n",
    "    test_iterador_incluido()\n",
    "    print(\"OK\")    "
   ]
  },
  {
   "cell_type": "code",
   "execution_count": null,
   "metadata": {
    "collapsed": true,
    "deletable": true,
    "editable": true
   },
   "outputs": [],
   "source": []
  }
 ],
 "metadata": {
  "anaconda-cloud": {},
  "kernelspec": {
   "display_name": "Python 3",
   "language": "python",
   "name": "python3"
  },
  "language_info": {
   "codemirror_mode": {
    "name": "ipython",
    "version": 3
   },
   "file_extension": ".py",
   "mimetype": "text/x-python",
   "name": "python",
   "nbconvert_exporter": "python",
   "pygments_lexer": "ipython3",
   "version": "3.6.0"
  }
 },
 "nbformat": 4,
 "nbformat_minor": 1
}
